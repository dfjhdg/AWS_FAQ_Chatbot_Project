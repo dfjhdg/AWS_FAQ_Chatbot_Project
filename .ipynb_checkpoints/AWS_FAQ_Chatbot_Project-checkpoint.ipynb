{
 "cells": [
  {
   "cell_type": "markdown",
   "id": "eff2fd78",
   "metadata": {},
   "source": [
    "# AWS FAQ Chatbot using TF-IDF and Cosine Similarity\n",
    "Welcome to the AWS FAQ Chatbot project. This chatbot helps users get answers to their AWS-related queries by retrieving the most similar FAQ from a dataset using natural language processing techniques.\n",
    "\n",
    "---"
   ]
  },
  {
   "cell_type": "markdown",
   "id": "0591479a",
   "metadata": {},
   "source": [
    "## Step 1: Import Required Libraries"
   ]
  },
  {
   "cell_type": "code",
   "execution_count": 1,
   "id": "3fa908f9",
   "metadata": {},
   "outputs": [],
   "source": [
    "import os\n",
    "import numpy as np\n",
    "import pandas as pd\n",
    "from sklearn.feature_extraction.text import TfidfVectorizer\n",
    "from sklearn.metrics.pairwise import cosine_similarity"
   ]
  },
  {
   "cell_type": "markdown",
   "id": "2d704e3a",
   "metadata": {},
   "source": [
    "## Step 2: Load the Dataset"
   ]
  },
  {
   "cell_type": "code",
   "execution_count": 2,
   "id": "b00295f5",
   "metadata": {},
   "outputs": [
    {
     "data": {
      "text/html": [
       "<div>\n",
       "<style scoped>\n",
       "    .dataframe tbody tr th:only-of-type {\n",
       "        vertical-align: middle;\n",
       "    }\n",
       "\n",
       "    .dataframe tbody tr th {\n",
       "        vertical-align: top;\n",
       "    }\n",
       "\n",
       "    .dataframe thead th {\n",
       "        text-align: right;\n",
       "    }\n",
       "</style>\n",
       "<table border=\"1\" class=\"dataframe\">\n",
       "  <thead>\n",
       "    <tr style=\"text-align: right;\">\n",
       "      <th></th>\n",
       "      <th>Question</th>\n",
       "      <th>Answer</th>\n",
       "    </tr>\n",
       "  </thead>\n",
       "  <tbody>\n",
       "    <tr>\n",
       "      <th>0</th>\n",
       "      <td>What is Amazon Elastic Compute Cloud (Amazon E...</td>\n",
       "      <td>Amazon Elastic Compute Cloud (Amazon EC2) is a...</td>\n",
       "    </tr>\n",
       "    <tr>\n",
       "      <th>1</th>\n",
       "      <td>What can I do with Amazon EC2?</td>\n",
       "      <td>Just as Amazon Simple Storage Service (Amazon ...</td>\n",
       "    </tr>\n",
       "    <tr>\n",
       "      <th>2</th>\n",
       "      <td>How can I get started with Amazon EC2?</td>\n",
       "      <td>To sign up for Amazon EC2, click the “Sign up ...</td>\n",
       "    </tr>\n",
       "    <tr>\n",
       "      <th>3</th>\n",
       "      <td>Why am I asked to verify my phone number when ...</td>\n",
       "      <td>Amazon EC2 registration requires you to have a...</td>\n",
       "    </tr>\n",
       "    <tr>\n",
       "      <th>4</th>\n",
       "      <td>What can developers now do that they could not...</td>\n",
       "      <td>Until now, small developers did not have the c...</td>\n",
       "    </tr>\n",
       "  </tbody>\n",
       "</table>\n",
       "</div>"
      ],
      "text/plain": [
       "                                            Question  \\\n",
       "0  What is Amazon Elastic Compute Cloud (Amazon E...   \n",
       "1                     What can I do with Amazon EC2?   \n",
       "2             How can I get started with Amazon EC2?   \n",
       "3  Why am I asked to verify my phone number when ...   \n",
       "4  What can developers now do that they could not...   \n",
       "\n",
       "                                              Answer  \n",
       "0  Amazon Elastic Compute Cloud (Amazon EC2) is a...  \n",
       "1  Just as Amazon Simple Storage Service (Amazon ...  \n",
       "2  To sign up for Amazon EC2, click the “Sign up ...  \n",
       "3  Amazon EC2 registration requires you to have a...  \n",
       "4  Until now, small developers did not have the c...  "
      ]
     },
     "execution_count": 2,
     "metadata": {},
     "output_type": "execute_result"
    }
   ],
   "source": [
    "# Load the CSV file containing AWS FAQs\n",
    "df = pd.read_csv('AWS_FAQ_Bot.csv')\n",
    "df.head()"
   ]
  },
  {
   "cell_type": "markdown",
   "id": "71fd7dea",
   "metadata": {},
   "source": [
    "## Step 3: Inspect and Clean the Data"
   ]
  },
  {
   "cell_type": "code",
   "execution_count": 3,
   "id": "00d02d9d",
   "metadata": {},
   "outputs": [
    {
     "name": "stdout",
     "output_type": "stream",
     "text": [
      "<class 'pandas.core.frame.DataFrame'>\n",
      "RangeIndex: 671 entries, 0 to 670\n",
      "Data columns (total 2 columns):\n",
      " #   Column    Non-Null Count  Dtype \n",
      "---  ------    --------------  ----- \n",
      " 0   Question  670 non-null    object\n",
      " 1   Answer    654 non-null    object\n",
      "dtypes: object(2)\n",
      "memory usage: 10.6+ KB\n"
     ]
    },
    {
     "data": {
      "text/plain": [
       "Question     1\n",
       "Answer      17\n",
       "dtype: int64"
      ]
     },
     "execution_count": 3,
     "metadata": {},
     "output_type": "execute_result"
    }
   ],
   "source": [
    "# Check data structure and null values\n",
    "df.info()\n",
    "df.isnull().sum()"
   ]
  },
  {
   "cell_type": "code",
   "execution_count": 4,
   "id": "78aba990",
   "metadata": {},
   "outputs": [],
   "source": [
    "# Drop rows with missing values if any\n",
    "df.dropna(inplace=True)"
   ]
  },
  {
   "cell_type": "markdown",
   "id": "f5905d7f",
   "metadata": {},
   "source": [
    "## Step 4: TF-IDF Vectorization"
   ]
  },
  {
   "cell_type": "code",
   "execution_count": 5,
   "id": "5b53fb40",
   "metadata": {},
   "outputs": [],
   "source": [
    "# Convert questions to TF-IDF vectors\n",
    "vectorizer = TfidfVectorizer()\n",
    "X = vectorizer.fit_transform(df['Question'])"
   ]
  },
  {
   "cell_type": "markdown",
   "id": "5107379c",
   "metadata": {},
   "source": [
    "## Step 5: Define the Chatbot Function"
   ]
  },
  {
   "cell_type": "code",
   "execution_count": 6,
   "id": "e43453fc",
   "metadata": {},
   "outputs": [],
   "source": [
    "def chatbot_response(user_input):\n",
    "    user_vec = vectorizer.transform([user_input])\n",
    "    similarity = cosine_similarity(user_vec, X)\n",
    "    index = similarity.argmax()\n",
    "    return df.iloc[index]['Answer']"
   ]
  },
  {
   "cell_type": "markdown",
   "id": "dc85d110",
   "metadata": {},
   "source": [
    "## Step 6: Interact with the Chatbot"
   ]
  },
  {
   "cell_type": "code",
   "execution_count": null,
   "id": "dcf75ee5",
   "metadata": {},
   "outputs": [
    {
     "name": "stdout",
     "output_type": "stream",
     "text": [
      "You: hey\n",
      "Bot: Amazon Elastic Compute Cloud (Amazon EC2) is a web service that provides resizable compute capacity in \n",
      "the cloud\n",
      ". It is designed to make web-scale computing easier for developers.\n",
      "You: What can I do with Amazon EC2?\n",
      "Bot: Just as Amazon Simple Storage Service (Amazon S3) enables storage in the cloud, Amazon EC2 enables “compute” in the cloud. Amazon EC2’s simple web service interface allows you to obtain and configure capacity with minimal friction. It provides you with complete control of your computing resources and lets you run on Amazon’s proven computing environment. Amazon EC2 reduces the time required to obtain and boot new server instances to minutes, allowing you to quickly scale capacity, both up and down, as your computing requirements change. Amazon EC2 changes the economics of computing by allowing you to pay only for capacity that you actually use.\n",
      "You: How can I get started with Amazon EC2?\n",
      "Bot: To sign up for Amazon EC2, click the “Sign up for This Web Service” button on the Amazon EC2 detail page. You must have an Amazon Web Services account to access this service; if you do not already have one, you will be prompted to create one when you begin the Amazon EC2 sign-up process. After signing up, please refer to the \n",
      "Amazon EC2 documentation\n",
      ", which includes our Getting Started Guide.\n"
     ]
    }
   ],
   "source": [
    "# Example Interaction\n",
    "while True:\n",
    "    user_input = input('You: ')\n",
    "    if user_input.lower() in ['exit', 'quit']:\n",
    "        print('Bot: Goodbye!')\n",
    "        break\n",
    "    response = chatbot_response(user_input)\n",
    "    print('Bot:', response)"
   ]
  },
  {
   "cell_type": "code",
   "execution_count": null,
   "id": "10abb4c7",
   "metadata": {},
   "outputs": [],
   "source": []
  }
 ],
 "metadata": {
  "kernelspec": {
   "display_name": "Python 3 (ipykernel)",
   "language": "python",
   "name": "python3"
  },
  "language_info": {
   "codemirror_mode": {
    "name": "ipython",
    "version": 3
   },
   "file_extension": ".py",
   "mimetype": "text/x-python",
   "name": "python",
   "nbconvert_exporter": "python",
   "pygments_lexer": "ipython3",
   "version": "3.10.9"
  }
 },
 "nbformat": 4,
 "nbformat_minor": 5
}
